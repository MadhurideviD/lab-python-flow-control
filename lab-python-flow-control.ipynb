{
 "cells": [
  {
   "cell_type": "markdown",
   "id": "d3bfc191-8885-42ee-b0a0-bbab867c6f9f",
   "metadata": {
    "tags": []
   },
   "source": [
    "# Lab | Flow Control"
   ]
  },
  {
   "cell_type": "markdown",
   "id": "3851fcd1-cf98-4653-9c89-e003b7ec9400",
   "metadata": {},
   "source": [
    "## Exercise: Managing Customer Orders Optimized\n",
    "\n",
    "In the last lab, you were starting an online store that sells various products. To ensure smooth operations, you developed a program that manages customer orders and inventory.\n",
    "\n",
    "You did so without using flow control. Let's go a step further and improve this code.\n",
    "\n",
    "Follow the steps below to complete the exercise:\n",
    "\n",
    "1. Look at your code from the lab data structures, and improve repeated code with loops.\n",
    "\n",
    "2. Instead of asking the user to input the name of three products that a customer wants to order, do the following:\n",
    "    \n",
    "    a. Prompt the user to enter the name of a product that a customer wants to order.\n",
    "    \n",
    "    b. Add the product name to the \"customer_orders\" set.\n",
    "    \n",
    "    c. Ask the user if they want to add another product (yes/no).\n",
    "    \n",
    "    d. Continue the loop until the user does not want to add another product.\n",
    "\n",
    "3. Instead of updating the inventory by subtracting 1 from the quantity of each product, only do it for  the products that were ordered (those in \"customer_orders\")."
   ]
  },
  {
   "cell_type": "code",
   "execution_count": 3,
   "id": "09309ab0",
   "metadata": {},
   "outputs": [
    {
     "name": "stdout",
     "output_type": "stream",
     "text": [
      "{'t-shirts': 5, 'mug': 10, 'hat': 15, 'book': 20, 'keychain': 25}\n",
      "Go to payment\n",
      "{'book', 'mug'}\n",
      "updated inventory:\n",
      "t-shirts : 5\n",
      "mug : 9\n",
      "hat : 15\n",
      "book : 19\n",
      "keychain : 25\n"
     ]
    }
   ],
   "source": [
    "products = [\"t-shirts\",\"mug\",\"hat\",\"book\",\"keychain\"]\n",
    "inventory = {}\n",
    "for product in products:\n",
    "    quantity = input(f\"Enter the quantity of {product}: \")\n",
    "    inventory[product] = int(quantity)\n",
    "\n",
    "print(inventory)   \n",
    "\n",
    "customer_orders = set()\n",
    "while True:\n",
    "    order = input(f\"Enter the name of the product you want: \")\n",
    "    if order in products:\n",
    "        customer_orders.add(order)    \n",
    "        add =input(\"Do you want to add another product:'yes' or 'no'\").strip()\n",
    "        if add == \"yes\":\n",
    "            continue                    \n",
    "        else:\n",
    "            print(\"Go to payment\")\n",
    "            break\n",
    "\n",
    "print (customer_orders)                 \n",
    "\n",
    "for product in customer_orders:\n",
    "    if inventory[product] > 0:\n",
    "        inventory[product] -=1\n",
    "\n",
    "print(\"updated inventory:\") \n",
    "for product,quantity in inventory.items():\n",
    "    print(f\"{product} : {quantity}\")   \n",
    "\n",
    "\n"
   ]
  }
 ],
 "metadata": {
  "kernelspec": {
   "display_name": "base",
   "language": "python",
   "name": "python3"
  },
  "language_info": {
   "codemirror_mode": {
    "name": "ipython",
    "version": 3
   },
   "file_extension": ".py",
   "mimetype": "text/x-python",
   "name": "python",
   "nbconvert_exporter": "python",
   "pygments_lexer": "ipython3",
   "version": "3.12.7"
  }
 },
 "nbformat": 4,
 "nbformat_minor": 5
}
